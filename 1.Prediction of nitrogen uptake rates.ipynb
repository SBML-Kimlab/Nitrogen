{
 "cells": [
  {
   "cell_type": "code",
   "execution_count": 4,
   "id": "5945deee",
   "metadata": {},
   "outputs": [],
   "source": [
    "import numpy as np\n",
    "from matplotlib import pyplot as plt\n",
    "import cobra"
   ]
  },
  {
   "cell_type": "markdown",
   "id": "5e802d1d",
   "metadata": {},
   "source": [
    "# 0. Preprocessing"
   ]
  },
  {
   "cell_type": "code",
   "execution_count": 87,
   "id": "40370a6c",
   "metadata": {},
   "outputs": [
    {
     "name": "stdout",
     "output_type": "stream",
     "text": [
      "Reactions of iML1515 are 2712\n",
      "Metabolites of iML1515 are 1877\n",
      "Genes of iML1515 are 1516\n"
     ]
    }
   ],
   "source": [
    "#Make flux range list of nitrogen uptake (0.5-bins)\n",
    "rxn_range = np.arange(0, 15, 0.5)\n",
    "\n",
    "#Make dictionaries for the Biomass objective function of each nitrogen condition\n",
    "nh4_bof = {}\n",
    "cytd_bof = {}\n",
    "csn_bof = {}\n",
    "\n",
    "#Load genome-scale metabolic model of E. coli K-12 MG1655\n",
    "nh4_model_dir = \"iML1515.xml\"\n",
    "nh4_model = cobra.io.read_sbml_model(nh4_model_dir)\n",
    "\n",
    "rxn = nh4_model.reactions\n",
    "mtb  = nh4_model.metabolites\n",
    "gene = nh4_model.genes\n",
    "print (\"Reactions of %s are %s\" %(nh4_model_dir.split(\".xml\")[0], len(rxn)))\n",
    "print (\"Metabolites of %s are %s\" %(nh4_model_dir.split(\".xml\")[0], len(mtb)))\n",
    "print (\"Genes of %s are %s\" %(nh4_model_dir.split(\".xml\")[0], len(gene)))\n",
    "\n",
    "cytd_model_dir = nh4_model_dir\n",
    "csn_model_dir = nh4_model_dir\n",
    "cytd_model = cobra.io.read_sbml_model(cytd_model_dir)\n",
    "csn_model = cobra.io.read_sbml_model(csn_model_dir)"
   ]
  },
  {
   "cell_type": "markdown",
   "id": "7fc21cc9",
   "metadata": {},
   "source": [
    "# 1. Constraint setting from HPLC result"
   ]
  },
  {
   "cell_type": "code",
   "execution_count": 88,
   "id": "0fc40f97",
   "metadata": {},
   "outputs": [],
   "source": [
    "#Glucose uptake rate for ammonia condition\n",
    "nh4_glc_uptake = -11.18\n",
    "#Glucose uptake rate, uridine export rate, and uracil export rate for cytidine condition\n",
    "cytd_glc_uptake = -6.48\n",
    "cytd_uri_export = 5.29 \n",
    "cytd_ura_export = 4.52\n",
    "#Glucose uptake rate and uracil export rate for cytidine condition\n",
    "csn_glc_uptake = -7.25\n",
    "csn_ura_export = 6.44\n",
    "\n",
    "#Change growth rate(LN) to BOF(Log2) \n",
    "nh4_growth = 0.645/np.log(2)\n",
    "cytd_growth = 0.585/np.log(2)\n",
    "csn_growth = 0.433/np.log(2)"
   ]
  },
  {
   "cell_type": "markdown",
   "id": "51929fbd",
   "metadata": {},
   "source": [
    "# 2. Calculate nitrogen uptake rates"
   ]
  },
  {
   "cell_type": "code",
   "execution_count": 89,
   "id": "33d5d7ef",
   "metadata": {},
   "outputs": [
    {
     "name": "stdout",
     "output_type": "stream",
     "text": [
      "EX_nh4_e lower_bound limit is 10.0\n",
      "EX_nh4_e upper_bound limit is 10.5\n",
      "Predicted ammonia uptake rate is -10.049999999999999 mmol/gDCW/hr\n"
     ]
    }
   ],
   "source": [
    "for nh4_uptake in rxn_range:    \n",
    "    nh4_model.reactions.EX_nh4_e.lower_bound = -nh4_uptake\n",
    "    nh4_model.reactions.EX_glc__D_e.lower_bound = nh4_glc_uptake\n",
    "    solution = nh4_model.optimize().f\n",
    "    nh4_bof[nh4_uptake] = solution\n",
    "    \n",
    "for i in nh4_bof:\n",
    "    if nh4_bof[i] > nh4_growth:\n",
    "        print (\"EX_nh4_e lower_bound limit is \"+ str(i-0.5))\n",
    "        print (\"EX_nh4_e upper_bound limit is \"+ str(i))\n",
    "        tem_nh4_range = [i-0.5, i]\n",
    "        break\n",
    "nh4_range = np.arange(tem_nh4_range[0], tem_nh4_range[1], 0.01)\n",
    "\n",
    "for nh4_uptake in nh4_range:    \n",
    "    nh4_model.reactions.EX_nh4_e.lower_bound = -nh4_uptake\n",
    "    nh4_model.reactions.EX_glc__D_e.lower_bound = nh4_glc_uptake\n",
    "    solution = nh4_model.optimize().f\n",
    "    if solution > nh4_growth:\n",
    "        final_nh4_uptake = -nh4_uptake\n",
    "        print (\"Predicted ammonia uptake rate is \" + str(final_nh4_uptake) + \" mmol/gDCW/hr\")\n",
    "        break"
   ]
  },
  {
   "cell_type": "code",
   "execution_count": 90,
   "id": "d94649d3",
   "metadata": {},
   "outputs": [
    {
     "name": "stdout",
     "output_type": "stream",
     "text": [
      "EX_cytd_e lower_bound limit is 9.5\n",
      "EX_cytd_e upper_bound limit is 10.0\n",
      "Predicted cytidine uptake rate is -9.579999999999998 mmol/gDCW/hr\n"
     ]
    }
   ],
   "source": [
    "for cytd_uptake in rxn_range:    \n",
    "    cytd_model.reactions.EX_nh4_e.lower_bound = 0.\n",
    "    cytd_model.reactions.EX_3hpp_e.lower_bound = 0.\n",
    "    \n",
    "    cytd_model.reactions.EX_cytd_e.lower_bound = -cytd_uptake\n",
    "    cytd_model.reactions.EX_glc__D_e.lower_bound = cytd_glc_uptake\n",
    "    cytd_model.reactions.EX_uri_e.lower_bound = cytd_uri_export\n",
    "    cytd_model.reactions.EX_ura_e.lower_bound = cytd_ura_export\n",
    "    solution = cytd_model.optimize().f\n",
    "    if solution == None:\n",
    "        solution = 0.0\n",
    "    cytd_bof[cytd_uptake] = solution\n",
    "    \n",
    "for i in cytd_bof:\n",
    "    if cytd_bof[i] > cytd_growth:\n",
    "        print (\"EX_cytd_e lower_bound limit is \"+ str(i-0.5))\n",
    "        print (\"EX_cytd_e upper_bound limit is \"+ str(i))\n",
    "        tem_cytd_range = [i-0.5, i]\n",
    "        break\n",
    "cytd_range = np.arange(tem_cytd_range[0], tem_cytd_range[1], 0.01)\n",
    "\n",
    "for cytd_uptake in cytd_range:    \n",
    "    cytd_model.reactions.EX_cytd_e.lower_bound = -cytd_uptake\n",
    "    cytd_model.reactions.EX_glc__D_e.lower_bound = cytd_glc_uptake\n",
    "    solution = cytd_model.optimize().f\n",
    "    if solution > cytd_growth:\n",
    "        final_cytd_uptake = -cytd_uptake\n",
    "        print (\"Predicted cytidine uptake rate is \" + str(final_cytd_uptake) + \" mmol/gDCW/hr\")\n",
    "        break"
   ]
  },
  {
   "cell_type": "code",
   "execution_count": 91,
   "id": "090a5ea5",
   "metadata": {},
   "outputs": [
    {
     "name": "stdout",
     "output_type": "stream",
     "text": [
      "EX_csn_e lower_bound limit is 6.5\n",
      "EX_csn_e upper_bound limit is 7.0\n",
      "Predicted cytosine uptake rate is -6.549999999999999 mmol/gDCW/hr\n"
     ]
    }
   ],
   "source": [
    "for csn_uptake in rxn_range:    \n",
    "    csn_model.reactions.EX_nh4_e.lower_bound = 0.\n",
    "    csn_model.reactions.EX_3hpp_e.lower_bound = 0.\n",
    "    \n",
    "    csn_model.reactions.EX_csn_e.lower_bound = -csn_uptake\n",
    "    csn_model.reactions.EX_glc__D_e.lower_bound = csn_glc_uptake\n",
    "    csn_model.reactions.EX_ura_e.lower_bound = csn_ura_export\n",
    "    solution = csn_model.optimize().f\n",
    "    if solution == None:\n",
    "        solution = 0.0\n",
    "    csn_bof[csn_uptake] = solution\n",
    "    \n",
    "for i in csn_bof:\n",
    "    if csn_bof[i] > csn_growth:\n",
    "        print (\"EX_csn_e lower_bound limit is \"+ str(i-0.5))\n",
    "        print (\"EX_csn_e upper_bound limit is \"+ str(i))\n",
    "        tem_csn_range = [i-0.5, i]\n",
    "        break\n",
    "csn_range = np.arange(tem_csn_range[0], tem_csn_range[1], 0.01)\n",
    "\n",
    "for csn_uptake in csn_range:    \n",
    "    csn_model.reactions.EX_csn_e.lower_bound = -csn_uptake\n",
    "    csn_model.reactions.EX_glc__D_e.lower_bound = csn_glc_uptake\n",
    "    solution = csn_model.optimize().f\n",
    "    if solution > csn_growth:\n",
    "        final_csn_uptake = -csn_uptake\n",
    "        print (\"Predicted cytosine uptake rate is \" + str(final_csn_uptake) + \" mmol/gDCW/hr\")\n",
    "        break"
   ]
  },
  {
   "cell_type": "markdown",
   "id": "62bb3bf3",
   "metadata": {},
   "source": [
    "# 3. Make raw figure file"
   ]
  },
  {
   "cell_type": "code",
   "execution_count": 105,
   "id": "cead9a5e",
   "metadata": {},
   "outputs": [
    {
     "data": {
      "image/png": "[encoded data removed]",
      "text/plain": [
       "<Figure size 504x252 with 1 Axes>"
      ]
     },
     "metadata": {
      "needs_background": "light"
     },
     "output_type": "display_data"
    }
   ],
   "source": [
    "plt.figure(figsize=(7, 3.5))\n",
    "plt.plot(rxn_range, sorted(nh4_bof.values()), color = 'grey', marker='^')\n",
    "plt.plot(rxn_range, sorted(cytd_bof.values()), color = 'yellowgreen', marker='o')\n",
    "plt.plot(rxn_range, sorted(csn_bof.values()), color = 'greenyellow', marker='s')\n",
    "\n",
    "plt.xlabel(\"Uptake rate for nitrogen source (-mmol/gDCW/hr)\")\n",
    "plt.ylabel(\"Biomass objective function\\n(mmol/gDCW/hr)\")\n",
    "plt.axvline(x = -final_nh4_uptake, linestyle='--')\n",
    "plt.axvline(x= -final_cytd_uptake, linestyle='--')\n",
    "plt.axvline(x= -final_csn_uptake, linestyle='--')\n",
    "\n",
    "#plt.savefig('Predicted_nitrogen_uptake_rate.svg')\n",
    "plt.show()"
   ]
  },
  {
   "cell_type": "code",
   "execution_count": null,
   "id": "e5296b49",
   "metadata": {},
   "outputs": [],
   "source": []
  }
 ],
 "metadata": {
  "kernelspec": {
   "display_name": "Python 3",
   "language": "python",
   "name": "python3"
  },
  "language_info": {
   "codemirror_mode": {
    "name": "ipython",
    "version": 3
   },
   "file_extension": ".py",
   "mimetype": "text/x-python",
   "name": "python",
   "nbconvert_exporter": "python",
   "pygments_lexer": "ipython3",
   "version": "3.7.4"
  }
 },
 "nbformat": 4,
 "nbformat_minor": 5
}
