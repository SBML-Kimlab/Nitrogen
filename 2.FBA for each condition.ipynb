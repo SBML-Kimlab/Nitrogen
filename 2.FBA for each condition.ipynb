{
 "cells": [
  {
   "cell_type": "code",
   "execution_count": 2,
   "metadata": {},
   "outputs": [],
   "source": [
    "import pandas as pd\n",
    "import cobra"
   ]
  },
  {
   "cell_type": "markdown",
   "metadata": {},
   "source": [
    "# 0. Preprocessing"
   ]
  },
  {
   "cell_type": "code",
   "execution_count": 3,
   "metadata": {},
   "outputs": [
    {
     "name": "stdout",
     "output_type": "stream",
     "text": [
      "Reactions of iML1515 are 2712\n",
      "Metabolites of iML1515 are 1877\n",
      "Genes of iML1515 are 1516\n"
     ]
    }
   ],
   "source": [
    "#Load genome-scale metabolic model of E. coli K-12 MG1655\n",
    "nh4_model_dir = \"iML1515.xml\"\n",
    "nh4_model = cobra.io.read_sbml_model(nh4_model_dir)\n",
    "\n",
    "rxn = nh4_model.reactions\n",
    "mtb  = nh4_model.metabolites\n",
    "gene = nh4_model.genes\n",
    "print (\"Reactions of %s are %s\" %(nh4_model_dir.split(\".xml\")[0], len(rxn)))\n",
    "print (\"Metabolites of %s are %s\" %(nh4_model_dir.split(\".xml\")[0], len(mtb)))\n",
    "print (\"Genes of %s are %s\" %(nh4_model_dir.split(\".xml\")[0], len(gene)))\n",
    "\n",
    "cytd_model_dir = nh4_model_dir\n",
    "csn_model_dir = nh4_model_dir\n",
    "cytd_model = cobra.io.read_sbml_model(cytd_model_dir)\n",
    "csn_model = cobra.io.read_sbml_model(csn_model_dir)"
   ]
  },
  {
   "cell_type": "markdown",
   "metadata": {},
   "source": [
    "# 1. Constraint setting for FBA"
   ]
  },
  {
   "cell_type": "code",
   "execution_count": 3,
   "metadata": {
    "collapsed": true
   },
   "outputs": [],
   "source": [
    "#Glucose uptake rate for ammonia condition\n",
    "nh4_glc_uptake = -11.18\n",
    "nh4_uptake = -10.05\n",
    "#Glucose uptake rate, uridine export rate, and uracil export rate for cytidine condition\n",
    "cytd_glc_uptake = -6.48\n",
    "cytd_uptake = -9.58\n",
    "cytd_uri_export = 5.29 \n",
    "cytd_ura_export = 4.52\n",
    "#Glucose uptake rate and uracil export rate for cytidine condition\n",
    "csn_glc_uptake = -7.25\n",
    "csn_ura_export = 6.44\n",
    "csn_uptake = -6.55"
   ]
  },
  {
   "cell_type": "markdown",
   "metadata": {},
   "source": [
    "# 2. FBA(Flux balance analysis) for each condition"
   ]
  },
  {
   "cell_type": "code",
   "execution_count": 4,
   "metadata": {},
   "outputs": [
    {
     "name": "stdout",
     "output_type": "stream",
     "text": [
      "IN FLUXES            OUT FLUXES     OBJECTIVES\n",
      "-------------------  -------------  ----------------------\n",
      "o2_e      24.3       h2o_e  49.4    BIOMASS_Ec_i...  0.931\n",
      "glc__D_e  11.2       co2_e  24.8\n",
      "nh4_e     10.1       h_e    12.1\n",
      "pi_e       0.898     for_e   2.99\n",
      "so4_e      0.234     ac_e    0.542\n",
      "k_e        0.182\n",
      "mg2_e      0.00807\n",
      "fe2_e      0.00768\n",
      "fe3_e      0.00727\n",
      "ca2_e      0.00484\n",
      "cl_e       0.00484\n",
      "cu2_e      0.00066\n",
      "mn2_e      0.000643\n",
      "zn2_e      0.000317\n",
      "ni2_e      0.000301\n"
     ]
    }
   ],
   "source": [
    "#Ammonia condition\n",
    "nh4_model.reactions.EX_nh4_e.lower_bound = nh4_uptake\n",
    "nh4_model.reactions.EX_glc__D_e.lower_bound = nh4_glc_uptake\n",
    "solution = nh4_model.optimize()\n",
    "nh4_model.summary()\n",
    "solution.fluxes.to_csv(\"FBA_result_nh4.csv\")"
   ]
  },
  {
   "cell_type": "code",
   "execution_count": 5,
   "metadata": {},
   "outputs": [
    {
     "name": "stdout",
     "output_type": "stream",
     "text": [
      "IN FLUXES            OUT FLUXES           OBJECTIVES\n",
      "-------------------  -------------------  ----------------------\n",
      "o2_e      20.7       h2o_e     31.7       BIOMASS_Ec_i...  0.844\n",
      "cytd_e     9.58      co2_e     22.1\n",
      "glc__D_e   6.48      uri_e      5.29\n",
      "pi_e       0.815     ura_e      4.52\n",
      "so4_e      0.213     ac_e       1.32\n",
      "k_e        0.165     for_e      0.00207\n",
      "h_e        0.0361    glyclt_e   0.000377\n",
      "mg2_e      0.00733\n",
      "fe2_e      0.00697\n",
      "fe3_e      0.00659\n",
      "ca2_e      0.0044\n",
      "cl_e       0.0044\n",
      "cu2_e      0.000599\n",
      "mn2_e      0.000584\n",
      "zn2_e      0.000288\n",
      "ni2_e      0.000273\n"
     ]
    }
   ],
   "source": [
    "#Cytidine condition\n",
    "cytd_model.reactions.EX_nh4_e.lower_bound = 0.\n",
    "cytd_model.reactions.EX_3hpp_e.lower_bound = 0.\n",
    "cytd_model.reactions.EX_cytd_e.lower_bound = cytd_uptake\n",
    "cytd_model.reactions.EX_glc__D_e.lower_bound = cytd_glc_uptake\n",
    "cytd_model.reactions.EX_uri_e.lower_bound = cytd_uri_export\n",
    "cytd_model.reactions.EX_ura_e.lower_bound = cytd_ura_export\n",
    "\n",
    "solution = cytd_model.optimize()\n",
    "cytd_model.summary()\n",
    "solution.fluxes.to_csv(\"FBA_result_cytd.csv\")"
   ]
  },
  {
   "cell_type": "code",
   "execution_count": 6,
   "metadata": {},
   "outputs": [
    {
     "name": "stdout",
     "output_type": "stream",
     "text": [
      "IN FLUXES            OUT FLUXES    OBJECTIVES\n",
      "-------------------  ------------  ----------------------\n",
      "o2_e      16.7       h2o_e  27.7   BIOMASS_Ec_i...  0.627\n",
      "glc__D_e   7.25      co2_e  18.2\n",
      "csn_e      6.55      ura_e   6.44\n",
      "h_e        1.01\n",
      "pi_e       0.605\n",
      "so4_e      0.158\n",
      "k_e        0.122\n",
      "mg2_e      0.00544\n",
      "fe2_e      0.00517\n",
      "fe3_e      0.00489\n",
      "ca2_e      0.00326\n",
      "cl_e       0.00326\n",
      "cu2_e      0.000444\n",
      "mn2_e      0.000433\n",
      "zn2_e      0.000214\n",
      "ni2_e      0.000202\n"
     ]
    }
   ],
   "source": [
    "#Cytosine condition\n",
    "csn_model.reactions.EX_nh4_e.lower_bound = 0.\n",
    "csn_model.reactions.EX_3hpp_e.lower_bound = 0.\n",
    "csn_model.reactions.EX_csn_e.lower_bound = csn_uptake\n",
    "csn_model.reactions.EX_glc__D_e.lower_bound = csn_glc_uptake\n",
    "csn_model.reactions.EX_ura_e.lower_bound = csn_ura_export\n",
    "\n",
    "solution = csn_model.optimize()\n",
    "csn_model.summary()\n",
    "solution.fluxes.to_csv(\"FBA_result_csn.csv\")"
   ]
  },
  {
   "cell_type": "code",
   "execution_count": null,
   "metadata": {
    "collapsed": true
   },
   "outputs": [],
   "source": []
  }
 ],
 "metadata": {
  "kernelspec": {
   "display_name": "Python 3",
   "language": "python",
   "name": "python3"
  },
  "language_info": {
   "codemirror_mode": {
    "name": "ipython",
    "version": 3
   },
   "file_extension": ".py",
   "mimetype": "text/x-python",
   "name": "python",
   "nbconvert_exporter": "python",
   "pygments_lexer": "ipython3",
   "version": "3.7.4"
  }
 },
 "nbformat": 4,
 "nbformat_minor": 2
}
