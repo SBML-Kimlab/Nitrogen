{
 "cells": [
  {
   "cell_type": "code",
   "execution_count": 1,
   "metadata": {},
   "outputs": [],
   "source": [
    "import cobra"
   ]
  },
  {
   "cell_type": "code",
   "execution_count": 3,
   "metadata": {},
   "outputs": [],
   "source": [
    "model = cobra.io.read_sbml_model(\"/home/joonyoung/Python/iML1515.xml\")"
   ]
  },
  {
   "cell_type": "code",
   "execution_count": 8,
   "metadata": {},
   "outputs": [
    {
     "name": "stdout",
     "output_type": "stream",
     "text": [
      "All of cytoplasmic metabolites in iML1515 are  1071\n",
      "Has nitrogen?  628\n"
     ]
    }
   ],
   "source": [
    "cyto_n = 0\n",
    "all_cyto = 0\n",
    "for met in model.metabolites:\n",
    "    if met.compartment == \"c\":\n",
    "        all_cyto = all_cyto +1\n",
    "        if \"N\" in met.formula:\n",
    "             cyto_n = cyto_n +1\n",
    "                \n",
    "print (\"All of cytoplasmic metabolites in iML1515 are \", all_cyto)\n",
    "print (\"Has nitrogen? \", cyto_n)"
   ]
  },
  {
   "cell_type": "code",
   "execution_count": null,
   "metadata": {},
   "outputs": [],
   "source": [
    "def has_exch_rxn( met ) :\n",
    "    cnt_loop = 0\n",
    "    for rxn in model.reactions :\n",
    "        cnt_loop = cnt_loop + 1\n",
    "        tem = []\n",
    "        for i in rxn.metabolites.keys():\n",
    "            tem.append(str(i)) \n",
    "        if not met in tem:\n",
    "            continue\n",
    "        if rxn.id.startswith( \"EX_\" ) and rxn.get_coefficient( met ) < 0 :\n",
    "            return str(rxn)        \n",
    "    return None\n",
    "\n",
    "#has_exch_rxn( model.metabolites.cytd_e )\n",
    "\n",
    "model = cobra.io.read_sbml_model(\"/home/joonyoung/Python/iML1515.xml\")\n",
    "\n",
    "cnt_withn = 0\n",
    "cnt_n_exch = 0\n",
    "cnt_growth = 0\n",
    "growth = []\n",
    "n_growth = {}\n",
    "n_ex_rxn = {}\n",
    "n_solution = {}\n",
    "\n",
    "\n",
    "for met in model.metabolites:\n",
    "    if \"N\" in met.formula:\n",
    "        cnt_withn = cnt_withn + 1\n",
    "        #print (met, met.formula)\n",
    "        ex_rxn_ = has_exch_rxn( str(met) )\n",
    "        if ex_rxn_ is not None :\n",
    "            ex_rxn  = ex_rxn_.split(\":\")[0]\n",
    "            #print met.id\n",
    "            cnt_n_exch = cnt_n_exch + 1\n",
    "            model0 = cobra.io.read_sbml_model(\"/home/joonyoung/Python/iML1515.xml\")\n",
    "            model0.remove_reactions( model0.reactions.GLCptspp )\n",
    "            model0.reactions.EX_nh4_e.lower_bound = 0\n",
    "            model0.reactions.EX_nh4_e.upper_bound = 0\n",
    "            model0.reactions.get_by_id( ex_rxn ).lower_bound = -10\n",
    "            model0.optimize()\n",
    "            \n",
    "            print (met.id, model0.optimize().objective_value)\n",
    "            growth.append( model0.optimize().objective_value )\n",
    "            \n",
    "            if model0.optimize().objective_value > 0.5 and met.id not in n_growth.keys() :\n",
    "                n_growth[ str( met.id ) ] = str( model0.optimize().objective_value )\n",
    "                n_ex_rxn[ str( met.id ) ] = ex_rxn\n",
    "                n_solution[ str( met.id ) ] = model0.optimize().objective_value\n",
    "\n",
    "print (\"Metabolites with N: \" + str( cnt_withn ))\n",
    "print (\"Metabolites with N and exchanage rxn: \" + str( cnt_n_exch ))   "
   ]
  },
  {
   "cell_type": "code",
   "execution_count": 22,
   "metadata": {},
   "outputs": [
    {
     "data": {
      "image/png": "[encoded data removed]",
      "text/plain": [
       "<Figure size 720x720 with 1 Axes>"
      ]
     },
     "metadata": {
      "needs_background": "light"
     },
     "output_type": "display_data"
    }
   ],
   "source": [
    "import matplotlib.pyplot as plt\n",
    "%matplotlib inline\n",
    "\n",
    "\n",
    "fig, ax = plt.subplots( 1, 1, figsize = ( 10, 10 ) )\n",
    "#plt.axis( [ 6, 9, 0.5, 1.0 ] )\n",
    "#plt.xlabel( \"uptake rate for carbon source\" )\n",
    "#plt.ylabel( \"growth rate\" )\n",
    "ax.hist( growth )\n",
    "#plt.legend( loc = \"lower right\" )\n",
    "plt.draw()\n",
    "plt.savefig( '/home/joonyoung/Python/n_growth_thresh.pdf' ) \n",
    "plt.show()\n"
   ]
  },
  {
   "cell_type": "code",
   "execution_count": 30,
   "metadata": {},
   "outputs": [],
   "source": [
    "with open(\"n_source_iML1515.txt\", \"w\") as f:\n",
    "    for i in sorted(n_ex_rxn):\n",
    "        f.write((\"%s\\t%s\\n\")%(i,\"EX_\"+i))"
   ]
  },
  {
   "cell_type": "code",
   "execution_count": null,
   "metadata": {},
   "outputs": [],
   "source": []
  }
 ],
 "metadata": {
  "kernelspec": {
   "display_name": "Python 3",
   "language": "python",
   "name": "python3"
  },
  "language_info": {
   "codemirror_mode": {
    "name": "ipython",
    "version": 3
   },
   "file_extension": ".py",
   "mimetype": "text/x-python",
   "name": "python",
   "nbconvert_exporter": "python",
   "pygments_lexer": "ipython3",
   "version": "3.7.4"
  }
 },
 "nbformat": 4,
 "nbformat_minor": 4
}
