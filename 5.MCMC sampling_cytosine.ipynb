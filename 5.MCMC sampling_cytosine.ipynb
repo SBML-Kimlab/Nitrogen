{
 "cells": [
  {
   "cell_type": "code",
   "execution_count": 2,
   "metadata": {
    "collapsed": true
   },
   "outputs": [],
   "source": [
    "import pandas as pd\n",
    "import cobra\n",
    "from cobra.flux_analysis.sampling import OptGPSampler"
   ]
  },
  {
   "cell_type": "code",
   "execution_count": 3,
   "metadata": {},
   "outputs": [
    {
     "name": "stdout",
     "output_type": "stream",
     "text": [
      "CPU times: user 17 ms, sys: 37.2 ms, total: 54.2 ms\n",
      "Wall time: 565 ms\n",
      "             0          1           2         3        4           5     \\\n",
      "Title      CYTDK2       XPPT       HXPRT     NDPK5   SHK3Dr       NDPK6   \n",
      "mean   0.00723141  0.0109782  0.00846935 -0.019072  0.23793  0.00245372   \n",
      "\n",
      "             6          7          8         9      ...            2702  \\\n",
      "Title       NDPK8     DHORTS      OMPDC    PYNP2r   ...    COLIPAabctex   \n",
      "mean  -0.00704636 -0.0923816  0.0923816 -0.125441   ...     7.98655e-15   \n",
      "\n",
      "               2703         2704   2705     2706         2707         2708  \\\n",
      "Title  ENLIPAabctex  DM_mththf_c  PYROX  BMOGDS1         MPTS        MOCOS   \n",
      "mean    5.57131e-05  0.000549738      0        0  4.65753e-18  4.65753e-18   \n",
      "\n",
      "          2709        2710    2711  \n",
      "Title  BMOGDS2      FESD2s  OCTNLL  \n",
      "mean         0  3.5221e-32       0  \n",
      "\n",
      "[2 rows x 2712 columns]\n"
     ]
    }
   ],
   "source": [
    "model_dir='iML1515.xml'\n",
    "model = cobra.io.read_sbml_model(model_dir)\n",
    "sampling_num = 100000\n",
    "\n",
    "model.reactions.EX_nh4_e.lower_bound = 0.\n",
    "model.reactions.EX_3hpp_e.upper_bound = 0.\n",
    "\n",
    "model.reactions.EX_glc__D_e.lower_bound = -7.25\n",
    "model.reactions.EX_csn_e.lower_bound = -6.55\n",
    "model.reactions.EX_ura_e.lower_bound = 6.44\n",
    "\n",
    "model.reactions.BIOMASS_Ec_iML1515_core_75p37M.lower_bound = model.optimize().objective_value*0.95    \n",
    "\n",
    "mcmc = OptGPSampler(model, processes = 8)\n",
    "%time mcmc_sampling = mcmc.sample(sampling_num)\n",
    "\n",
    "#Save mcmc file\n",
    "mcmc_value = \"mcmc_flux_csn.txt\"\n",
    "mcmc_sampling.to_csv(mcmc_value, sep=\"\\t\", header=True)\n",
    "\n",
    "#Save mcmc head file\n",
    "mcmc_head = mcmc_sampling.head()\n",
    "mcmc_head_value = \"mcmc_flux_head_csn.txt\"\n",
    "mcmc_head.to_csv(mcmc_head_value, sep=\"\\t\", header=True)\n",
    "\n",
    "#Calculate mcmc mean value\n",
    "df = mcmc_sampling\n",
    "mcmc_list = []\n",
    "\n",
    "for i in mcmc_sampling:\n",
    "    mcmc_list.append(i)\n",
    "mcmc_list\n",
    "mcmc_sum = {}\n",
    "mcmc_sum_list = []\n",
    "\n",
    "for j in mcmc_list:\n",
    "    sums = df[j].sum()\n",
    "    mean = sums/sampling_num\n",
    "    mcmc_sum[j] = mean\n",
    "    for_list = j, mean\n",
    "    mcmc_sum_list.append(for_list)\n",
    "\n",
    "index = ['Title', 'mean']\n",
    "df = pd.DataFrame(mcmc_sum_list, columns = index)\n",
    "df_inv = df.transpose()\n",
    "print (df_inv)\n",
    "\n",
    "#Save mcmc mean value\n",
    "mcmc_mean_value = \"mcmc_mean_flux_csn.txt\"\n",
    "df.to_csv(mcmc_mean_value, sep=\"\\t\", header=True)"
   ]
  },
  {
   "cell_type": "code",
   "execution_count": null,
   "metadata": {
    "collapsed": true
   },
   "outputs": [],
   "source": []
  }
 ],
 "metadata": {
  "kernelspec": {
   "display_name": "Python 3",
   "language": "python",
   "name": "python3"
  },
  "language_info": {
   "codemirror_mode": {
    "name": "ipython",
    "version": 3
   },
   "file_extension": ".py",
   "mimetype": "text/x-python",
   "name": "python",
   "nbconvert_exporter": "python",
   "pygments_lexer": "ipython3",
   "version": "3.7.4"
  }
 },
 "nbformat": 4,
 "nbformat_minor": 2
}
